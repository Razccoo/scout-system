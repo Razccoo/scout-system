{
 "cells": [
  {
   "cell_type": "code",
   "execution_count": 4,
   "metadata": {},
   "outputs": [],
   "source": [
    "%load_ext autoreload\n",
    "%autoreload 2"
   ]
  },
  {
   "cell_type": "code",
   "execution_count": null,
   "metadata": {},
   "outputs": [],
   "source": [
    "import pandas as pd # type: ignore\n",
    "import numpy as np # type: ignore\n",
    "import matplotlib.pyplot as plt # type: ignore\n",
    "from scripts import utils, schemas\n",
    "from scipy import stats\n",
    "\n",
    "from urllib.request import urlopen\n",
    "from PIL import Image # type: ignore\n",
    "from mplsoccer import PyPizza, add_image, FontManager # type: ignore\n",
    "\n",
    "pd.set_option('display.max_columns', None)"
   ]
  },
  {
   "cell_type": "code",
   "execution_count": null,
   "metadata": {},
   "outputs": [],
   "source": [
    "path = \"https://raw.githubusercontent.com/griffisben/Wyscout_Prospect_Research/main/Main%20App/Brasileir%C3%A3o%202024.csv\""
   ]
  },
  {
   "cell_type": "code",
   "execution_count": null,
   "metadata": {},
   "outputs": [],
   "source": [
    "data = utils.read_csv2(path)"
   ]
  },
  {
   "cell_type": "code",
   "execution_count": null,
   "metadata": {},
   "outputs": [],
   "source": [
    "seasons = pd.DataFrame()"
   ]
  },
  {
   "cell_type": "code",
   "execution_count": null,
   "metadata": {},
   "outputs": [],
   "source": [
    "seasons['seasons'] = [\"2023\", \"2024\", \"2024\", \"2023\", \"23-24\", \"22-23\"]"
   ]
  },
  {
   "cell_type": "code",
   "execution_count": null,
   "metadata": {},
   "outputs": [],
   "source": [
    "pos = utils.filter_by_position(data, \"Kanatlar\")"
   ]
  },
  {
   "cell_type": "code",
   "execution_count": null,
   "metadata": {},
   "outputs": [],
   "source": [
    "schemas.pos_mapping().values()"
   ]
  },
  {
   "cell_type": "code",
   "execution_count": null,
   "metadata": {},
   "outputs": [],
   "source": [
    "selected_position = \"Forvetler (OOS, K, SF)\"\n",
    "# Compare selected position with the values in the pos_mapping\n",
    "for position, schema in schemas.pos_mapping().items():\n",
    "    if selected_position == position:\n",
    "        compare_pos = schema\n",
    "        break\n",
    "else:\n",
    "    compare_pos = selected_position  # Handle case where position is not found"
   ]
  },
  {
   "cell_type": "code",
   "execution_count": null,
   "metadata": {},
   "outputs": [],
   "source": [
    "compare_pos"
   ]
  },
  {
   "cell_type": "code",
   "execution_count": null,
   "metadata": {},
   "outputs": [],
   "source": [
    "fotmob = soccerdata.FotMob(leagues='INT-European Championship', seasons=2024)"
   ]
  },
  {
   "cell_type": "code",
   "execution_count": null,
   "metadata": {},
   "outputs": [],
   "source": [
    "schedule = fotmob.read_schedule().reset_index()"
   ]
  },
  {
   "cell_type": "code",
   "execution_count": null,
   "metadata": {},
   "outputs": [],
   "source": [
    "topstats = fotmob.read_team_match_stats(\"Top stats\").reset_index()"
   ]
  },
  {
   "cell_type": "code",
   "execution_count": null,
   "metadata": {},
   "outputs": [],
   "source": [
    "events = fotmob.read_match_details(schedule)"
   ]
  },
  {
   "cell_type": "code",
   "execution_count": null,
   "metadata": {},
   "outputs": [],
   "source": [
    "def process_events(data):\n",
    "    # Initialize an empty list to collect all match data and match stats\n",
    "    all_match_data = []\n",
    "    all_match_stats = []\n",
    "\n",
    "    for i in data:\n",
    "        general = i['general']\n",
    "    # Extract the required match data\n",
    "        match_data = {\n",
    "            'matchId': general.get('matchId'),\n",
    "            'matchName': general.get('matchName'),\n",
    "            'leagueRoundName': general.get('leagueRoundName'),\n",
    "            'countryCode': general.get('countryCode'),\n",
    "            'home_team_name': general['homeTeam'].get('name'),\n",
    "            'away_team_name': general['awayTeam'].get('name'),\n",
    "            'home_team_id': general['homeTeam'].get('id'),\n",
    "            'away_team_id': general['awayTeam'].get('id')\n",
    "        }\n",
    "        \n",
    "        # Append the match data to the list\n",
    "        all_match_data.append(match_data)\n",
    "\n",
    "        # Extract the match stats\n",
    "        if 'shotmap' in i['content']:\n",
    "            shots = i['content']['shotmap']['shots']\n",
    "            for shot in shots:\n",
    "                shot['matchId'] = general.get('matchId')\n",
    "                shot['teamName'] = general['homeTeam']['name'] if shot['teamId'] == general['homeTeam']['id'] else general['awayTeam']['name']\n",
    "                all_match_stats.append(shot)\n",
    "    \n",
    "    # Convert the lists of match data and match stats to DataFrames\n",
    "    match_df = pd.DataFrame(all_match_data)\n",
    "    stats_df = pd.json_normalize(all_match_stats)\n",
    "    \n",
    "    return match_df, stats_df"
   ]
  },
  {
   "cell_type": "code",
   "execution_count": null,
   "metadata": {},
   "outputs": [],
   "source": [
    "match_df, stats_df = process_events(events)"
   ]
  },
  {
   "cell_type": "code",
   "execution_count": null,
   "metadata": {},
   "outputs": [],
   "source": [
    "stats_df"
   ]
  },
  {
   "cell_type": "code",
   "execution_count": null,
   "metadata": {},
   "outputs": [],
   "source": [
    "pd.json_normalize(events[0]['content']['shotmap']['shots'])"
   ]
  },
  {
   "cell_type": "code",
   "execution_count": null,
   "metadata": {},
   "outputs": [],
   "source": [
    "schedule.keys()"
   ]
  },
  {
   "cell_type": "code",
   "execution_count": null,
   "metadata": {},
   "outputs": [],
   "source": [
    "pd.json_normalize(events[0]['content']['lineup']['lineup'][0])"
   ]
  },
  {
   "cell_type": "code",
   "execution_count": null,
   "metadata": {},
   "outputs": [],
   "source": [
    "pd.json_normalize(events['content'][0][])"
   ]
  },
  {
   "cell_type": "code",
   "execution_count": null,
   "metadata": {},
   "outputs": [],
   "source": [
    "pd.DataFrame(events['content'][0])"
   ]
  },
  {
   "cell_type": "code",
   "execution_count": null,
   "metadata": {},
   "outputs": [],
   "source": [
    "league_info_url = 'https://raw.githubusercontent.com/griffisben/Wyscout_Prospect_Research/main/league_info_lookup.csv'\n",
    "leagues = utils.read_csv(league_info_url)\n",
    "selected_league = \"Premier League\"\n",
    "selected_season = \"23-24\"\n",
    "full_league_name = f\"{selected_league} {selected_season}\""
   ]
  },
  {
   "cell_type": "code",
   "execution_count": null,
   "metadata": {},
   "outputs": [],
   "source": [
    "league_season_data = utils.read_csv2((f'https://raw.githubusercontent.com/griffisben/Wyscout_Prospect_Research/main/Main%20App/{full_league_name.replace(\" \",\"%20\").replace(\"ü\",\"u\").replace(\"ó\",\"o\").replace(\"ö\",\"o\")}.csv'))\n",
    "league_season_data = league_season_data[list(schemas.column_mapping().values())]\n",
    "league_season_data['Lig'] = f'{selected_league}'"
   ]
  },
  {
   "cell_type": "code",
   "execution_count": null,
   "metadata": {},
   "outputs": [],
   "source": [
    "# Fixing random state for reproducibility\n",
    "np.random.seed(19680801)\n",
    "\n",
    "# Compute pie slices\n",
    "N = 10\n",
    "theta = np.linspace(0.0, 2 * np.pi, N, endpoint=False)\n",
    "radii = 10 * np.random.rand(N)\n",
    "width = np.pi / 4 * np.random.rand(N)\n",
    "colors = plt.cm.viridis(radii / 10.)\n",
    "\n",
    "ax = plt.subplot(projection='polar')\n",
    "ax.bar(theta, radii, width=width, bottom=0.0, color=colors, alpha=0.5)\n",
    "\n",
    "plt.show()"
   ]
  },
  {
   "cell_type": "code",
   "execution_count": null,
   "metadata": {},
   "outputs": [],
   "source": [
    "df = pd.DataFrame(np.random.normal(0,100,size=(100, 4)), columns=list('ABCD'))"
   ]
  },
  {
   "cell_type": "code",
   "execution_count": null,
   "metadata": {},
   "outputs": [],
   "source": [
    "df1 = stats.zscore(df['A'], ddof=5)"
   ]
  },
  {
   "cell_type": "code",
   "execution_count": null,
   "metadata": {},
   "outputs": [],
   "source": [
    "df1"
   ]
  },
  {
   "cell_type": "code",
   "execution_count": null,
   "metadata": {},
   "outputs": [],
   "source": [
    "# Fit a normal distribution to\n",
    "# the data:\n",
    "# mean and standard deviation\n",
    "mu, std = stats.norm.fit(df1) \n",
    " \n",
    "# Plot the histogram.\n",
    "plt.hist(df1, bins=25, density=True, alpha=0.6, color='b')\n",
    " \n",
    "# Plot the PDF.\n",
    "xmin, xmax = plt.xlim()\n",
    "x = np.linspace(xmin, xmax, 100)\n",
    "p = stats.norm.pdf(x, mu, std)\n",
    " \n",
    "plt.plot(x, p, 'k', linewidth=2)\n",
    "title = \"Fit Values: {:.2f} and {:.2f}\".format(mu, std)\n",
    "plt.title(title)\n",
    " \n",
    "plt.show()"
   ]
  },
  {
   "cell_type": "code",
   "execution_count": null,
   "metadata": {},
   "outputs": [],
   "source": [
    "min_z = df1.min()\n",
    "max_z = df1.max()\n",
    "\n",
    "# Function to scale z-score to 100-point scale\n",
    "def scale_z_to_100(z, min_z, max_z):\n",
    "    return ((z - min_z) / (max_z - min_z)) * 100\n",
    "\n",
    "# Scale all z-scores\n",
    "scaled_values = scale_z_to_100(df1, min_z, max_z)"
   ]
  },
  {
   "cell_type": "code",
   "execution_count": null,
   "metadata": {},
   "outputs": [],
   "source": [
    "scaled_values.sort_values()"
   ]
  },
  {
   "cell_type": "code",
   "execution_count": null,
   "metadata": {},
   "outputs": [],
   "source": [
    "df1"
   ]
  },
  {
   "cell_type": "code",
   "execution_count": null,
   "metadata": {},
   "outputs": [],
   "source": [
    "wingerschema = schemas.att_winger_schema()\n",
    "columnmapping= schemas.column_mapping()"
   ]
  },
  {
   "cell_type": "code",
   "execution_count": null,
   "metadata": {},
   "outputs": [],
   "source": []
  },
  {
   "cell_type": "code",
   "execution_count": null,
   "metadata": {},
   "outputs": [],
   "source": [
    "for category, details in wingerschema.items():\n",
    "    for metric in details['measurements'].keys():\n",
    "        metric = metric.replace()\n"
   ]
  },
  {
   "cell_type": "code",
   "execution_count": null,
   "metadata": {},
   "outputs": [],
   "source": [
    "from scripts import utils, schemas, scatterplot\n",
    "import numpy as np\n",
    "import pandas as pd\n"
   ]
  },
  {
   "cell_type": "code",
   "execution_count": null,
   "metadata": {},
   "outputs": [],
   "source": [
    "params = scatterplot.param_list\n",
    "params.sort()"
   ]
  },
  {
   "cell_type": "code",
   "execution_count": null,
   "metadata": {},
   "outputs": [],
   "source": [
    "params.sort()"
   ]
  },
  {
   "cell_type": "code",
   "execution_count": null,
   "metadata": {},
   "outputs": [],
   "source": [
    "params"
   ]
  },
  {
   "cell_type": "code",
   "execution_count": null,
   "metadata": {},
   "outputs": [],
   "source": [
    "import numpy as np\n",
    "import pandas as pd"
   ]
  },
  {
   "cell_type": "code",
   "execution_count": null,
   "metadata": {},
   "outputs": [],
   "source": [
    "lg.sort()"
   ]
  },
  {
   "cell_type": "code",
   "execution_count": 14,
   "metadata": {},
   "outputs": [],
   "source": [
    "import pandas as pd\n",
    "import numpy as np\n",
    "import matplotlib.pyplot as plt\n",
    "import matplotlib.ticker as ticker\n",
    "import matplotlib.patheffects as path_effects\n",
    "import matplotlib.font_manager as fm\n",
    "from highlight_text import fig_text, ax_text\n",
    "from adjustText import adjust_text\n",
    "from matplotlib.colors import LinearSegmentedColormap, Normalize\n",
    "from matplotlib import cm\n",
    "import scipy.stats as stats\n",
    "import streamlit as st\n",
    "import requests\n",
    "\n",
    "\n",
    "from mplsoccer import Pitch\n",
    "\n",
    "from PIL import Image\n",
    "import urllib\n",
    "import os\n",
    "\n",
    "# Base URL to the GitHub repository containing the font files\n",
    "github_base_url = \"https://raw.githubusercontent.com/Razccoo/scout-system/Testing/assets/fonts\"\n",
    "\n",
    "# Temporary directory to store downloaded fonts\n",
    "temp_dir = \"/tmp/fonts\"\n",
    "os.makedirs(temp_dir, exist_ok=True)\n",
    "\n",
    "# List of font directories and files in the GitHub repository\n",
    "font_files = [\n",
    "    \"Karla.ttf\",\n",
    "    \"DMSans.ttf\"\n",
    "    # Add all the font paths you need here\n",
    "]\n",
    "\n",
    "# Function to download a file from GitHub\n",
    "def download_file(url, save_path):\n",
    "    response = requests.get(url)\n",
    "    response.raise_for_status()  # Ensure the request was successful\n",
    "    with open(save_path, 'wb') as file:\n",
    "        file.write(response.content)\n",
    "\n",
    "# Download and load fonts\n",
    "for font_file in font_files:\n",
    "    font_url = f\"{github_base_url}/{font_file}\"\n",
    "    local_font_path = os.path.join(temp_dir, os.path.basename(font_file))\n",
    "    download_file(font_url, local_font_path)\n",
    "    fm.fontManager.addfont(local_font_path)\n",
    "    try:\n",
    "        fm.FontProperties(weight=os.path.basename(font_file).split(\"-\")[-1].split(\".\")[0].lower(), fname=os.path.basename(font_file).split(\"-\")[0])\n",
    "    except Exception:\n",
    "        continue\n",
    "\n",
    "plt.style.use(\"https://raw.githubusercontent.com/Razccoo/scout-system/Testing/assets/stylesheets/soc_base.mplstyle\")\n",
    "plt.rcParams['font.family'] = 'Karla'"
   ]
  },
  {
   "cell_type": "code",
   "execution_count": null,
   "metadata": {},
   "outputs": [],
   "source": [
    "df_plot['zscore'] = stats.zscore(df_plot[xx])*.4 + stats.zscore(df_plot[yy])*.6\n",
    "df_plot['annotated'] = [True if x > df_plot['zscore'].quantile(.8) else False for x in df_plot['zscore']]"
   ]
  },
  {
   "cell_type": "code",
   "execution_count": null,
   "metadata": {},
   "outputs": [],
   "source": [
    "fig = plt.figure(figsize=(8,8), dpi=100)\n",
    "ax = plt.subplot()\n",
    "ax.grid(visible=True, ls='--', color='lightgrey')\n",
    "\n",
    "ax.scatter(\n",
    "    df_plot[xx], df_plot[yy], \n",
    "    c=df_plot['zscore'], cmap='inferno', \n",
    "    zorder=3, ec='grey', s=55, alpha=0.8)\n",
    "    \n",
    "texts = []\n",
    "annotated_df = df_plot[df_plot['annotated']].reset_index(drop=True)\n",
    "for index in range(annotated_df.shape[0]):\n",
    "    texts += [\n",
    "        ax.text(\n",
    "            x=annotated_df[xx].iloc[index], y=annotated_df[yy].iloc[index],\n",
    "            s=f\"{annotated_df['player_first_name'].iloc[index][0]}. {annotated_df['player_last_name'].iloc[index]}\",\n",
    "            path_effects=[path_effects.Stroke(linewidth=2, foreground=fig.get_facecolor()), \n",
    "            path_effects.Normal()], color='black',\n",
    "            family='DM Sans', weight='bold'\n",
    "        )\n",
    "    ]\n",
    "\n",
    "adjust_text(texts, only_move={'points':'y', 'text':'xy', 'objects':'xy'})\n",
    "\n",
    "ax.xaxis.set_major_locator(ticker.MultipleLocator(2))\n",
    "ax.yaxis.set_major_locator(ticker.MultipleLocator(.1))\n",
    "ax.yaxis.set_major_formatter(ticker.StrMethodFormatter('{x:.0%}'))\n",
    "ax.set_xlim(0)\n",
    "ax.set_ylim(0,1)\n",
    "\n",
    "ax.set_ylabel(f'{xx}')\n",
    "ax.set_xlabel(f'{yy}')\n",
    "\n",
    "fig_text(\n",
    "    x = 0.09, y = .99, \n",
    "    s = f\"{selected_league} {selected_position}\",\n",
    "    va = \"bottom\", ha = \"left\",\n",
    "    fontsize = 20, color = \"black\", font = \"DM Sans\", weight = \"bold\"\n",
    ")\n",
    "\n",
    "fig_text(\n",
    "    x = 0.09, y = 0.91, \n",
    "    s = f\"{xx} ve {yy}\\nOnly players with above median minutes & median total long balls are shown.\\nViz by @sonofacorner | Season 2022/2023\",\n",
    "    va = \"bottom\", ha = \"left\",\n",
    "    fontsize = 12, color = \"#5A5A5A\", font = \"Karla\"\n",
    ")\n",
    "\n",
    "plt.savefig(\n",
    "\t\"figures/11072022_long_balls.png\",\n",
    "\tdpi = 600,\n",
    "\tfacecolor = \"#EFE9E6\",\n",
    "\tbbox_inches=\"tight\",\n",
    "    edgecolor=\"none\",\n",
    "\ttransparent = False\n",
    ")\n",
    "\n",
    "plt.savefig(\n",
    "\t\"figures/11072022_long_balls_tr.png\",\n",
    "\tdpi = 600,\n",
    "\tfacecolor = \"none\",\n",
    "\tbbox_inches=\"tight\",\n",
    "    edgecolor=\"none\",\n",
    "\ttransparent = True\n",
    ")"
   ]
  }
 ],
 "metadata": {
  "kernelspec": {
   "display_name": "Python 3",
   "language": "python",
   "name": "python3"
  },
  "language_info": {
   "codemirror_mode": {
    "name": "ipython",
    "version": 3
   },
   "file_extension": ".py",
   "mimetype": "text/x-python",
   "name": "python",
   "nbconvert_exporter": "python",
   "pygments_lexer": "ipython3",
   "version": "3.10.13"
  }
 },
 "nbformat": 4,
 "nbformat_minor": 2
}
