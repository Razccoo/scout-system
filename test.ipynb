{
 "cells": [
  {
   "cell_type": "code",
   "execution_count": null,
   "metadata": {},
   "outputs": [],
   "source": [
    "%load_ext autoreload\n",
    "%autoreload 2"
   ]
  },
  {
   "cell_type": "code",
   "execution_count": null,
   "metadata": {},
   "outputs": [],
   "source": [
    "import pandas as pd # type: ignore\n",
    "import numpy as np # type: ignore\n",
    "import matplotlib.pyplot as plt # type: ignore\n",
    "from scripts import utils, schemas\n",
    "from scipy import stats\n",
    "\n",
    "from urllib.request import urlopen\n",
    "from PIL import Image # type: ignore\n",
    "from mplsoccer import PyPizza, add_image, FontManager # type: ignore\n",
    "\n",
    "pd.set_option('display.max_columns', None)"
   ]
  },
  {
   "cell_type": "code",
   "execution_count": null,
   "metadata": {},
   "outputs": [],
   "source": [
    "path = \"https://raw.githubusercontent.com/griffisben/Wyscout_Prospect_Research/main/Main%20App/Brasileir%C3%A3o%202024.csv\""
   ]
  },
  {
   "cell_type": "code",
   "execution_count": null,
   "metadata": {},
   "outputs": [],
   "source": [
    "data = utils.read_csv2(path)"
   ]
  },
  {
   "cell_type": "code",
   "execution_count": null,
   "metadata": {},
   "outputs": [],
   "source": [
    "seasons = pd.DataFrame()"
   ]
  },
  {
   "cell_type": "code",
   "execution_count": null,
   "metadata": {},
   "outputs": [],
   "source": [
    "seasons['seasons'] = [\"2023\", \"2024\", \"2024\", \"2023\", \"23-24\", \"22-23\"]"
   ]
  },
  {
   "cell_type": "code",
   "execution_count": null,
   "metadata": {},
   "outputs": [],
   "source": [
    "pos = utils.filter_by_position(data, \"Kanatlar\")"
   ]
  },
  {
   "cell_type": "code",
   "execution_count": null,
   "metadata": {},
   "outputs": [],
   "source": [
    "schemas.pos_mapping().values()"
   ]
  },
  {
   "cell_type": "code",
   "execution_count": null,
   "metadata": {},
   "outputs": [],
   "source": [
    "selected_position = \"Forvetler (OOS, K, SF)\"\n",
    "# Compare selected position with the values in the pos_mapping\n",
    "for position, schema in schemas.pos_mapping().items():\n",
    "    if selected_position == position:\n",
    "        compare_pos = schema\n",
    "        break\n",
    "else:\n",
    "    compare_pos = selected_position  # Handle case where position is not found"
   ]
  },
  {
   "cell_type": "code",
   "execution_count": null,
   "metadata": {},
   "outputs": [],
   "source": [
    "compare_pos"
   ]
  },
  {
   "cell_type": "code",
   "execution_count": null,
   "metadata": {},
   "outputs": [],
   "source": [
    "fotmob = soccerdata.FotMob(leagues='INT-European Championship', seasons=2024)"
   ]
  },
  {
   "cell_type": "code",
   "execution_count": null,
   "metadata": {},
   "outputs": [],
   "source": [
    "schedule = fotmob.read_schedule().reset_index()"
   ]
  },
  {
   "cell_type": "code",
   "execution_count": null,
   "metadata": {},
   "outputs": [],
   "source": [
    "topstats = fotmob.read_team_match_stats(\"Top stats\").reset_index()"
   ]
  },
  {
   "cell_type": "code",
   "execution_count": null,
   "metadata": {},
   "outputs": [],
   "source": [
    "events = fotmob.read_match_details(schedule)"
   ]
  },
  {
   "cell_type": "code",
   "execution_count": null,
   "metadata": {},
   "outputs": [],
   "source": [
    "def process_events(data):\n",
    "    # Initialize an empty list to collect all match data and match stats\n",
    "    all_match_data = []\n",
    "    all_match_stats = []\n",
    "\n",
    "    for i in data:\n",
    "        general = i['general']\n",
    "    # Extract the required match data\n",
    "        match_data = {\n",
    "            'matchId': general.get('matchId'),\n",
    "            'matchName': general.get('matchName'),\n",
    "            'leagueRoundName': general.get('leagueRoundName'),\n",
    "            'countryCode': general.get('countryCode'),\n",
    "            'home_team_name': general['homeTeam'].get('name'),\n",
    "            'away_team_name': general['awayTeam'].get('name'),\n",
    "            'home_team_id': general['homeTeam'].get('id'),\n",
    "            'away_team_id': general['awayTeam'].get('id')\n",
    "        }\n",
    "        \n",
    "        # Append the match data to the list\n",
    "        all_match_data.append(match_data)\n",
    "\n",
    "        # Extract the match stats\n",
    "        if 'shotmap' in i['content']:\n",
    "            shots = i['content']['shotmap']['shots']\n",
    "            for shot in shots:\n",
    "                shot['matchId'] = general.get('matchId')\n",
    "                shot['teamName'] = general['homeTeam']['name'] if shot['teamId'] == general['homeTeam']['id'] else general['awayTeam']['name']\n",
    "                all_match_stats.append(shot)\n",
    "    \n",
    "    # Convert the lists of match data and match stats to DataFrames\n",
    "    match_df = pd.DataFrame(all_match_data)\n",
    "    stats_df = pd.json_normalize(all_match_stats)\n",
    "    \n",
    "    return match_df, stats_df"
   ]
  },
  {
   "cell_type": "code",
   "execution_count": null,
   "metadata": {},
   "outputs": [],
   "source": [
    "match_df, stats_df = process_events(events)"
   ]
  },
  {
   "cell_type": "code",
   "execution_count": null,
   "metadata": {},
   "outputs": [],
   "source": [
    "stats_df"
   ]
  },
  {
   "cell_type": "code",
   "execution_count": null,
   "metadata": {},
   "outputs": [],
   "source": [
    "pd.json_normalize(events[0]['content']['shotmap']['shots'])"
   ]
  },
  {
   "cell_type": "code",
   "execution_count": null,
   "metadata": {},
   "outputs": [],
   "source": [
    "schedule.keys()"
   ]
  },
  {
   "cell_type": "code",
   "execution_count": null,
   "metadata": {},
   "outputs": [],
   "source": [
    "pd.json_normalize(events[0]['content']['lineup']['lineup'][0])"
   ]
  },
  {
   "cell_type": "code",
   "execution_count": null,
   "metadata": {},
   "outputs": [],
   "source": [
    "pd.json_normalize(events['content'][0][])"
   ]
  },
  {
   "cell_type": "code",
   "execution_count": null,
   "metadata": {},
   "outputs": [],
   "source": [
    "pd.DataFrame(events['content'][0])"
   ]
  },
  {
   "cell_type": "code",
   "execution_count": null,
   "metadata": {},
   "outputs": [],
   "source": [
    "league_info_url = 'https://raw.githubusercontent.com/griffisben/Wyscout_Prospect_Research/main/league_info_lookup.csv'\n",
    "leagues = utils.read_csv(league_info_url)\n",
    "selected_league = \"Premier League\"\n",
    "selected_season = \"23-24\"\n",
    "full_league_name = f\"{selected_league} {selected_season}\""
   ]
  },
  {
   "cell_type": "code",
   "execution_count": null,
   "metadata": {},
   "outputs": [],
   "source": [
    "league_season_data = utils.read_csv2((f'https://raw.githubusercontent.com/griffisben/Wyscout_Prospect_Research/main/Main%20App/{full_league_name.replace(\" \",\"%20\").replace(\"ü\",\"u\").replace(\"ó\",\"o\").replace(\"ö\",\"o\")}.csv'))\n",
    "league_season_data = league_season_data[list(schemas.column_mapping().values())]\n",
    "league_season_data['Lig'] = f'{selected_league}'"
   ]
  },
  {
   "cell_type": "code",
   "execution_count": null,
   "metadata": {},
   "outputs": [],
   "source": [
    "# Fixing random state for reproducibility\n",
    "np.random.seed(19680801)\n",
    "\n",
    "# Compute pie slices\n",
    "N = 10\n",
    "theta = np.linspace(0.0, 2 * np.pi, N, endpoint=False)\n",
    "radii = 10 * np.random.rand(N)\n",
    "width = np.pi / 4 * np.random.rand(N)\n",
    "colors = plt.cm.viridis(radii / 10.)\n",
    "\n",
    "ax = plt.subplot(projection='polar')\n",
    "ax.bar(theta, radii, width=width, bottom=0.0, color=colors, alpha=0.5)\n",
    "\n",
    "plt.show()"
   ]
  },
  {
   "cell_type": "code",
   "execution_count": null,
   "metadata": {},
   "outputs": [],
   "source": [
    "df = pd.DataFrame(np.random.normal(0,100,size=(100, 4)), columns=list('ABCD'))"
   ]
  },
  {
   "cell_type": "code",
   "execution_count": null,
   "metadata": {},
   "outputs": [],
   "source": [
    "df1 = stats.zscore(df['A'], ddof=5)"
   ]
  },
  {
   "cell_type": "code",
   "execution_count": null,
   "metadata": {},
   "outputs": [],
   "source": [
    "df1"
   ]
  },
  {
   "cell_type": "code",
   "execution_count": null,
   "metadata": {},
   "outputs": [],
   "source": [
    "# Fit a normal distribution to\n",
    "# the data:\n",
    "# mean and standard deviation\n",
    "mu, std = stats.norm.fit(df1) \n",
    " \n",
    "# Plot the histogram.\n",
    "plt.hist(df1, bins=25, density=True, alpha=0.6, color='b')\n",
    " \n",
    "# Plot the PDF.\n",
    "xmin, xmax = plt.xlim()\n",
    "x = np.linspace(xmin, xmax, 100)\n",
    "p = stats.norm.pdf(x, mu, std)\n",
    " \n",
    "plt.plot(x, p, 'k', linewidth=2)\n",
    "title = \"Fit Values: {:.2f} and {:.2f}\".format(mu, std)\n",
    "plt.title(title)\n",
    " \n",
    "plt.show()"
   ]
  },
  {
   "cell_type": "code",
   "execution_count": null,
   "metadata": {},
   "outputs": [],
   "source": [
    "min_z = df1.min()\n",
    "max_z = df1.max()\n",
    "\n",
    "# Function to scale z-score to 100-point scale\n",
    "def scale_z_to_100(z, min_z, max_z):\n",
    "    return ((z - min_z) / (max_z - min_z)) * 100\n",
    "\n",
    "# Scale all z-scores\n",
    "scaled_values = scale_z_to_100(df1, min_z, max_z)"
   ]
  },
  {
   "cell_type": "code",
   "execution_count": null,
   "metadata": {},
   "outputs": [],
   "source": [
    "scaled_values.sort_values()"
   ]
  },
  {
   "cell_type": "code",
   "execution_count": null,
   "metadata": {},
   "outputs": [],
   "source": [
    "df1"
   ]
  },
  {
   "cell_type": "code",
   "execution_count": null,
   "metadata": {},
   "outputs": [],
   "source": [
    "wingerschema = schemas.att_winger_schema()\n",
    "columnmapping= schemas.column_mapping()"
   ]
  },
  {
   "cell_type": "code",
   "execution_count": null,
   "metadata": {},
   "outputs": [],
   "source": []
  },
  {
   "cell_type": "code",
   "execution_count": null,
   "metadata": {},
   "outputs": [],
   "source": [
    "for category, details in wingerschema.items():\n",
    "    for metric in details['measurements'].keys():\n",
    "        metric = metric.replace()\n"
   ]
  },
  {
   "cell_type": "code",
   "execution_count": 13,
   "metadata": {},
   "outputs": [],
   "source": [
    "from scripts import utils, schemas, scatterplot\n",
    "import numpy as np\n",
    "import pandas as pd\n"
   ]
  },
  {
   "cell_type": "code",
   "execution_count": 20,
   "metadata": {},
   "outputs": [],
   "source": [
    "params = scatterplot.param_list\n",
    "params.sort()"
   ]
  },
  {
   "cell_type": "code",
   "execution_count": 16,
   "metadata": {},
   "outputs": [],
   "source": [
    "params.sort()"
   ]
  },
  {
   "cell_type": "code",
   "execution_count": 21,
   "metadata": {},
   "outputs": [
    {
     "data": {
      "text/plain": [
       "['1., 2., 3. Asistler',\n",
       " 'Akıllı Paslar / 90',\n",
       " 'Alınan Paslar / 90',\n",
       " 'Alınan Uzun Paslar / 90',\n",
       " 'Anahtar Paslar / 90',\n",
       " 'Ara Paslar / 90',\n",
       " 'Asist / 90',\n",
       " 'Asistler',\n",
       " 'Başarılı Akıllı Pas %',\n",
       " 'Başarılı Ara Paslar %',\n",
       " 'Başarılı Dikey Paslar %',\n",
       " 'Başarılı Dribbling %',\n",
       " 'Başarılı Geri Paslar %',\n",
       " 'Başarılı Hücum Hareketleri / 90',\n",
       " 'Başarılı Kademeli Paslar %',\n",
       " 'Başarılı Kısa / Orta Paslar %',\n",
       " 'Başarılı Orta %',\n",
       " 'Başarılı Pas %',\n",
       " 'Başarılı Savunma Eylemleri / 90',\n",
       " 'Başarılı Uzun Paslar %',\n",
       " 'Başarılı İleri Paslar %',\n",
       " 'Beklenen Asist (xA)',\n",
       " 'Beklenen Asist (xA) / 90',\n",
       " 'Beklenen Gol (xG)',\n",
       " 'Beklenen Gol (xG) / 90',\n",
       " 'Ceza Sahasına Başarılı Paslar %',\n",
       " 'Ceza Sahasına Paslar / 90',\n",
       " 'Ceza Sahasında Dokunuşlar / 90',\n",
       " 'Derin Tamamlamalar / 90',\n",
       " 'Derin Tamamlanan Ortalar / 90',\n",
       " 'Dikey Pas %',\n",
       " 'Dikey Paslar / 90',\n",
       " 'Direkt Serbest Vuruşlar / 90',\n",
       " 'Direkt Serbest Vuruşlar Hedef %',\n",
       " 'Dribblingler / 90',\n",
       " 'Engellenen Goller',\n",
       " 'Engellenen Goller / 90',\n",
       " 'Engellenen Şutlar / 90',\n",
       " 'Fauller / 90',\n",
       " 'Geri Paslar / 90',\n",
       " 'Gol Yememe',\n",
       " 'Gol Yememe %',\n",
       " 'Gol/ Şut %',\n",
       " 'Goller',\n",
       " 'Goller / 90',\n",
       " 'Hava Mücadeleleri / 90',\n",
       " 'Hava Mücadeleleri / 90.1',\n",
       " 'Hedefi Bulan Şutlar %',\n",
       " 'Hücum İkili Mücadeleleri / 90',\n",
       " 'Kademeli Paslar / 90',\n",
       " 'Kademeli Taşımalar / 90',\n",
       " 'Kafa Golleri',\n",
       " 'Kafa Golleri / 90',\n",
       " 'Kaleci Kutusuna Ortalar / 90',\n",
       " 'Kaleciye Geri Paslar / 90',\n",
       " 'Kartlar / 90',\n",
       " 'Karşı Beklenen Gol (xG)',\n",
       " 'Karşı Beklenen Gol (xG) / 90',\n",
       " 'Karşı Şutlar',\n",
       " 'Karşı Şutlar / 90',\n",
       " 'Kazanılan Fauller / 90',\n",
       " 'Kazanılan Hava Mücadeleleri %',\n",
       " 'Kazanılan Hava Mücadeleleri / 90',\n",
       " 'Kazanılan Hücum İkili Mücadeleleri %',\n",
       " 'Kazanılan Savunma İkili Mücadeleleri %',\n",
       " 'Kazanılan İkili Mücadeleler %',\n",
       " 'Kornerler / 90',\n",
       " 'Kullanılan Penaltılar',\n",
       " 'Kurtarış Oranı %',\n",
       " 'Kırmızı Kartlar',\n",
       " 'Kırmızı Kartlar / 90',\n",
       " 'Kısa / Orta Paslar / 90',\n",
       " 'Ortalama Pas Uzunluğu, m',\n",
       " 'Ortalama Uzun Pas Uzunluğu, m',\n",
       " 'Ortalar / 90',\n",
       " 'Oynadığı maçlar',\n",
       " 'Paslar / 90',\n",
       " 'Penaltı Dönüşümü %',\n",
       " 'Penaltısız Goller',\n",
       " 'Penaltısız Goller / 90',\n",
       " 'Sarı Kartlar',\n",
       " 'Sarı Kartlar / 90',\n",
       " 'Savunma İkili Mücadeleleri / 90',\n",
       " 'Sağ Kanattan Başarılı Ortalar %',\n",
       " 'Sağ Kanattan Ortalar / 90',\n",
       " 'Serbest Vuruşlar / 90',\n",
       " 'Sol Kanattan Başarılı Ortalar %',\n",
       " 'Sol Kanattan Ortalar / 90',\n",
       " 'Son Üçüncüye Başarılı Paslar %',\n",
       " 'Son Üçüncüye Paslar / 90',\n",
       " 'Top Kesme (pAdj)',\n",
       " 'Top Kesme / 90',\n",
       " 'Top Çalma & Kesmeler (pAdj) / 90',\n",
       " 'Top Çalma (pAdj)',\n",
       " 'Top Çalma / 90',\n",
       " 'Topla Hizlanmalar / 90',\n",
       " 'Uzun Paslar / 90',\n",
       " 'Yaş',\n",
       " 'Yenilen Goller',\n",
       " 'Yenilen Goller / 90',\n",
       " 'npxG',\n",
       " 'npxG / 90',\n",
       " 'xA başına Şut Asisti',\n",
       " 'Çıkışlar / 90',\n",
       " 'Üçüncü Asist / 90',\n",
       " 'İkili Mücadeleler / 90',\n",
       " 'İkinci Asist / 90',\n",
       " 'İleri Paslar / 90',\n",
       " 'Şut Asistleri / 90',\n",
       " 'Şut Başına npxG',\n",
       " 'Şutlar',\n",
       " 'Şutlar / 90']"
      ]
     },
     "execution_count": 21,
     "metadata": {},
     "output_type": "execute_result"
    }
   ],
   "source": [
    "params"
   ]
  },
  {
   "cell_type": "code",
   "execution_count": 12,
   "metadata": {},
   "outputs": [],
   "source": [
    "import numpy as np\n",
    "import pandas as pd"
   ]
  },
  {
   "cell_type": "code",
   "execution_count": 11,
   "metadata": {},
   "outputs": [
    {
     "ename": "AttributeError",
     "evalue": "'NoneType' object has no attribute 'sort'",
     "output_type": "error",
     "traceback": [
      "\u001b[0;31m---------------------------------------------------------------------------\u001b[0m",
      "\u001b[0;31mAttributeError\u001b[0m                            Traceback (most recent call last)",
      "Cell \u001b[0;32mIn[11], line 1\u001b[0m\n\u001b[0;32m----> 1\u001b[0m \u001b[43mlg\u001b[49m\u001b[38;5;241;43m.\u001b[39;49m\u001b[43msort\u001b[49m()\n",
      "\u001b[0;31mAttributeError\u001b[0m: 'NoneType' object has no attribute 'sort'"
     ]
    }
   ],
   "source": [
    "lg.sort()"
   ]
  },
  {
   "cell_type": "code",
   "execution_count": null,
   "metadata": {},
   "outputs": [],
   "source": []
  }
 ],
 "metadata": {
  "kernelspec": {
   "display_name": "Python 3",
   "language": "python",
   "name": "python3"
  },
  "language_info": {
   "codemirror_mode": {
    "name": "ipython",
    "version": 3
   },
   "file_extension": ".py",
   "mimetype": "text/x-python",
   "name": "python",
   "nbconvert_exporter": "python",
   "pygments_lexer": "ipython3",
   "version": "3.10.13"
  }
 },
 "nbformat": 4,
 "nbformat_minor": 2
}
